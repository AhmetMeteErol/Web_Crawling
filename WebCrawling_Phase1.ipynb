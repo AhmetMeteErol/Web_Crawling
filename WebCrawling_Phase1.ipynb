{
  "nbformat": 4,
  "nbformat_minor": 0,
  "metadata": {
    "colab": {
      "provenance": []
    },
    "kernelspec": {
      "name": "python3",
      "display_name": "Python 3"
    },
    "language_info": {
      "name": "python"
    }
  },
  "cells": [
    {
      "cell_type": "markdown",
      "source": [
        "## Phase 1 : Web Crawl & Store Data"
      ],
      "metadata": {
        "id": "vgsHgSrZbfu8"
      }
    },
    {
      "cell_type": "code",
      "source": [
        "import requests\n",
        "import json"
      ],
      "metadata": {
        "id": "AhqF8Y1hoixw"
      },
      "execution_count": 2,
      "outputs": []
    },
    {
      "cell_type": "markdown",
      "source": [
        "We will get data from it's GraphQL"
      ],
      "metadata": {
        "id": "RNeVMK6IfJxH"
      }
    },
    {
      "cell_type": "code",
      "source": [
        "url = 'https://ranking.glassdollar.com/graphql'"
      ],
      "metadata": {
        "id": "It8FFwGGU4Oj"
      },
      "execution_count": 10,
      "outputs": []
    },
    {
      "cell_type": "code",
      "source": [
        "query = '''\n",
        "{\n",
        "  topRankedCorporates\n",
        " {\n",
        "    name,\n",
        "    description,\n",
        "    logo_url,\n",
        "    industry,\n",
        "    hq_city,\n",
        "    hq_country,\n",
        "    website_url,\n",
        "    linkedin_url,\n",
        "    twitter_url,\n",
        "    startup_partners_count,\n",
        "    startup_partners\n",
        "      {\n",
        "        company_name,\n",
        "        logo,\n",
        "        city,\n",
        "        country,\n",
        "        website,\n",
        "        theme_gd\n",
        "      }\n",
        "  }\n",
        "}\n",
        "'''"
      ],
      "metadata": {
        "id": "FDMKcD_ufhow"
      },
      "execution_count": 50,
      "outputs": []
    },
    {
      "cell_type": "code",
      "source": [
        "response = requests.post(url, json={'query': query})\n",
        "\n",
        "# Check if the request was successful\n",
        "if response.status_code == 200:\n",
        "    # Convert the response to JSON\n",
        "    result = response.json()\n",
        "    # print(json.dumps(result, indent=2))  # Print the formatted JSON result\n",
        "else:\n",
        "    print(f\"Failed to fetch data: {response.status_code} - {response.text}\")"
      ],
      "metadata": {
        "id": "JAvXJwEfd_mh"
      },
      "execution_count": null,
      "outputs": []
    },
    {
      "cell_type": "code",
      "source": [
        "# print(result)"
      ],
      "metadata": {
        "id": "QIKK5JuOqZF7"
      },
      "execution_count": null,
      "outputs": []
    },
    {
      "cell_type": "code",
      "source": [
        "for corporate in result['data']['topRankedCorporates']:\n",
        "    themes = set()\n",
        "    for partner in corporate['startup_partners']:\n",
        "        themes.update(partner['theme_gd'].split(', '))\n",
        "    corporate['startup_themes'] = list(themes)\n",
        "\n",
        "# Test startup themes gathering\n",
        "print(result['data']['topRankedCorporates'][0]['startup_themes'])"
      ],
      "metadata": {
        "colab": {
          "base_uri": "https://localhost:8080/"
        },
        "id": "TDBonDgZt4LZ",
        "outputId": "f4c9f8d7-0d01-4919-8c44-9e6d4c086ddf"
      },
      "execution_count": 124,
      "outputs": [
        {
          "output_type": "stream",
          "name": "stdout",
          "text": [
            "['Virtual Reality', 'Safety', 'Digitalization,Industry 4.0', 'Security', 'FinTech', 'Augmented Reality', 'Manufacturing', 'Smart Supply Chain', 'Big Data', 'Automation', 'Digital Transformation', 'MarkTech', 'Digital Marketing', 'MarTech', 'Analytics', 'Consulting', 'Training', 'Business Intelligence', 'CleanTech', 'Sustainability', 'CleanTech,New Mobility', 'Natural Language Processing', 'Cloud Computing', 'New Mobility', 'Artificial Intelligence', 'Enterprise Software', 'Future of Work', 'Industry 4.0', 'Circular Economy', 'Cybersecurity', 'Robotics', 'Cyber Security', 'Advertising', 'Digitalization', 'Human Resources', 'E-Commerce', 'Collaboration', 'Machine Learning', 'Recruiting', 'Smart City', 'Other', 'Predictive Analytics', 'Smart Grid', 'HealthTech', 'Marketing', 'Internet of Things', 'Information Services', 'Industrial Automation', 'Smart Home', 'SaaS', 'Automotive', 'Health Care', 'Industry 4.0,Smart City', 'Data Integration', 'B2B', 'Electronics']\n"
          ]
        }
      ]
    }
  ]
}